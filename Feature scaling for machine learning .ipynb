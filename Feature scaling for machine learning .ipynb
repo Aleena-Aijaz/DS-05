{
 "cells": [
  {
   "cell_type": "markdown",
   "id": "b6587468",
   "metadata": {},
   "source": [
    "## Assignment - 10 "
   ]
  },
  {
   "cell_type": "markdown",
   "id": "ad33a08a",
   "metadata": {},
   "source": [
    "## Importing the libraries"
   ]
  },
  {
   "cell_type": "code",
   "execution_count": 1,
   "id": "382e5406",
   "metadata": {},
   "outputs": [],
   "source": [
    "import numpy as np\n",
    "import matplotlib.pyplot as plt\n",
    "import pandas as pd"
   ]
  },
  {
   "cell_type": "markdown",
   "id": "e867fb9c",
   "metadata": {},
   "source": [
    "## Importing the dataset"
   ]
  },
  {
   "cell_type": "code",
   "execution_count": 3,
   "id": "1354b1b2",
   "metadata": {},
   "outputs": [],
   "source": [
    "dataset = pd.read_csv('winequality-red.csv')"
   ]
  },
  {
   "cell_type": "markdown",
   "id": "d4390c0d",
   "metadata": {},
   "source": [
    "## Separate features and target"
   ]
  },
  {
   "cell_type": "code",
   "execution_count": 4,
   "id": "2ac2bc6d",
   "metadata": {},
   "outputs": [],
   "source": [
    "X = dataset.drop('quality', axis=1)  \n",
    "y = dataset['quality']"
   ]
  },
  {
   "cell_type": "markdown",
   "id": "5b905d4e",
   "metadata": {},
   "source": [
    "## Split the dataset into an 80-20 training-test set"
   ]
  },
  {
   "cell_type": "code",
   "execution_count": 5,
   "id": "993f7cb7",
   "metadata": {},
   "outputs": [],
   "source": [
    "from sklearn.model_selection import train_test_split\n",
    "X_train, X_test, y_train, y_test = train_test_split(X, y, test_size=0.2, random_state=42)"
   ]
  },
  {
   "cell_type": "markdown",
   "id": "3f0c44b0",
   "metadata": {},
   "source": [
    "## Create an instance of the StandardScaler class"
   ]
  },
  {
   "cell_type": "code",
   "execution_count": 6,
   "id": "3736091e",
   "metadata": {},
   "outputs": [],
   "source": [
    "from sklearn.preprocessing import StandardScaler\n",
    "scaler = StandardScaler()\n",
    "X_train_scaled = scaler.fit_transform(X_train)\n",
    "X_test_scaled = scaler.transform(X_test)"
   ]
  },
  {
   "cell_type": "markdown",
   "id": "ac82220c",
   "metadata": {},
   "source": [
    "## Fit the StandardScaler on the features from the training set and transform it"
   ]
  },
  {
   "cell_type": "code",
   "execution_count": 7,
   "id": "39a987ad",
   "metadata": {},
   "outputs": [],
   "source": [
    "from sklearn.preprocessing import StandardScaler\n",
    "scaler = StandardScaler()\n",
    "X_train_scaled = scaler.fit_transform(X_train)"
   ]
  },
  {
   "cell_type": "markdown",
   "id": "ca6b07a7",
   "metadata": {},
   "source": [
    "## Apply the transform to the test set"
   ]
  },
  {
   "cell_type": "code",
   "execution_count": 8,
   "id": "191aff91",
   "metadata": {},
   "outputs": [],
   "source": [
    "X_test_scaled = scaler.transform(X_test)"
   ]
  },
  {
   "cell_type": "markdown",
   "id": "41beabce",
   "metadata": {},
   "source": [
    "## Print the scaled training and test datasets"
   ]
  },
  {
   "cell_type": "code",
   "execution_count": 9,
   "id": "ce04541a",
   "metadata": {},
   "outputs": [
    {
     "name": "stdout",
     "output_type": "stream",
     "text": [
      "Scaled Training Dataset:\n",
      "   fixed acidity  volatile acidity  citric acid  residual sugar  chlorides  \\\n",
      "0       0.218332          0.889712     0.192092        0.309726  -0.049642   \n",
      "1      -1.290166         -1.788783     0.652753       -0.805080  -0.455214   \n",
      "2       1.494753         -0.784347     1.011045       -0.526378   0.599272   \n",
      "3       0.276351          0.861811    -0.063831       -0.665729  -0.009085   \n",
      "4       0.044274          2.814880    -0.626861        2.399985  -0.313264   \n",
      "\n",
      "   free sulfur dioxide  total sulfur dioxide   density        pH  sulphates  \\\n",
      "0             0.691007              1.042934  1.846696  1.093500   0.458223   \n",
      "1             2.388473              3.593870 -3.004491 -0.400439  -0.401197   \n",
      "2            -0.957960             -0.991742  0.768655 -0.075669   0.515517   \n",
      "3             0.012020             -0.718427  0.089488  0.054238  -1.088733   \n",
      "4            -0.472970              0.222990  1.199871  0.379008  -0.974144   \n",
      "\n",
      "    alcohol  \n",
      "0  1.123177  \n",
      "1  1.408272  \n",
      "2 -0.587390  \n",
      "3 -0.967516  \n",
      "4 -0.492358  \n",
      "\n",
      "Scaled Test Dataset:\n",
      "   fixed acidity  volatile acidity  citric acid  residual sugar  chlorides  \\\n",
      "0      -0.361860          0.164286    -0.985153       -0.038651   0.518158   \n",
      "1      -0.303841         -0.170525    -0.524492       -0.665729  -0.130756   \n",
      "2       1.378715          0.778108    -0.268569        0.100700   0.376208   \n",
      "3       0.102293         -0.393733     0.192092       -0.212839  -0.211871   \n",
      "4      -0.942051         -0.393733    -0.166200       -0.596054  -0.232149   \n",
      "\n",
      "   free sulfur dioxide  total sulfur dioxide   density        pH  sulphates  \\\n",
      "0            -0.181976             -0.019957  0.175732 -0.465393  -0.000134   \n",
      "1             0.497011              1.680668 -0.417191  0.508915  -1.031438   \n",
      "2             0.109019             -0.384376  1.954501 -0.205577   1.833295   \n",
      "3             1.563989              0.344463  0.660851  0.119192  -0.687670   \n",
      "4             0.206017             -0.384376 -1.064016  0.508915  -0.343902   \n",
      "\n",
      "    alcohol  \n",
      "0 -0.777453  \n",
      "1 -0.872484  \n",
      "2 -0.492358  \n",
      "3 -0.587390  \n",
      "4  0.172862  \n"
     ]
    }
   ],
   "source": [
    "X_train_scaled_df = pd.DataFrame(X_train_scaled, columns=X.columns)\n",
    "X_test_scaled_df = pd.DataFrame(X_test_scaled, columns=X.columns)\n",
    "print(\"Scaled Training Dataset:\")\n",
    "print(X_train_scaled_df.head())\n",
    "print(\"\\nScaled Test Dataset:\")\n",
    "print(X_test_scaled_df.head())"
   ]
  },
  {
   "cell_type": "code",
   "execution_count": null,
   "id": "30edbff0",
   "metadata": {},
   "outputs": [],
   "source": []
  }
 ],
 "metadata": {
  "kernelspec": {
   "display_name": "Python 3 (ipykernel)",
   "language": "python",
   "name": "python3"
  },
  "language_info": {
   "codemirror_mode": {
    "name": "ipython",
    "version": 3
   },
   "file_extension": ".py",
   "mimetype": "text/x-python",
   "name": "python",
   "nbconvert_exporter": "python",
   "pygments_lexer": "ipython3",
   "version": "3.9.12"
  }
 },
 "nbformat": 4,
 "nbformat_minor": 5
}
